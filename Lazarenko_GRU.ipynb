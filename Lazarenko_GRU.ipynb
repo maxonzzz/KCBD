{
 "cells": [
  {
   "cell_type": "code",
   "execution_count": 42,
   "metadata": {
    "colab": {
     "base_uri": "https://localhost:8080/"
    },
    "executionInfo": {
     "elapsed": 9405,
     "status": "ok",
     "timestamp": 1712607788949,
     "user": {
      "displayName": "Максим Лазаренко",
      "userId": "11263596122266035893"
     },
     "user_tz": -180
    },
    "id": "fzF0ghhkWVz-",
    "outputId": "c67b62de-c6b9-413b-e530-a1eba8530876"
   },
   "outputs": [
    {
     "name": "stdout",
     "output_type": "stream",
     "text": [
      "[('прекрасна', 1), ('атмосфера', 2), ('і', 1), ('вишукана', 1), ('кухня', 1), ('завдяки', 1), ('яким', 1), ('вечір', 1), ('пройшов', 1), ('чудово', 1)]\n",
      "Прекрасна атмосфера і вишукана кухня, завдяки яким вечір пройшов чудово.\n",
      "[('атмосфера', 1), ('прекрасна', 2), ('і', 3), ('вишукана', 4), ('кухня', 5), ('завдяки', 6), ('яким', 7), ('вечір', 8), ('пройшов', 9), ('чудово', 10), ('обслуговування', 11), ('залишає', 12), ('бажати', 13), ('кращого', 14), ('а', 15), ('застуджує', 16), ('до', 17), ('кісток', 18)]\n",
      "Model: \"sequential_5\"\n",
      "_________________________________________________________________\n",
      " Layer (type)                Output Shape              Param #   \n",
      "=================================================================\n",
      " embedding_5 (Embedding)     (None, 10, 128)           64000     \n",
      "                                                                 \n",
      " gru_15 (GRU)                (None, 10, 128)           99072     \n",
      "                                                                 \n",
      " gru_16 (GRU)                (None, 10, 64)            37248     \n",
      "                                                                 \n",
      " gru_17 (GRU)                (None, 32)                9408      \n",
      "                                                                 \n",
      " dense_5 (Dense)             (None, 1)                 33        \n",
      "                                                                 \n",
      "=================================================================\n",
      "Total params: 209761 (819.38 KB)\n",
      "Trainable params: 209761 (819.38 KB)\n",
      "Non-trainable params: 0 (0.00 Byte)\n",
      "_________________________________________________________________\n",
      "Epoch 1/30\n",
      "1/1 [==============================] - 7s 7s/step - loss: 0.6917 - accuracy: 0.5000\n",
      "Epoch 2/30\n",
      "1/1 [==============================] - 0s 23ms/step - loss: 0.6760 - accuracy: 1.0000\n",
      "Epoch 3/30\n",
      "1/1 [==============================] - 0s 25ms/step - loss: 0.6583 - accuracy: 1.0000\n",
      "Epoch 4/30\n",
      "1/1 [==============================] - 0s 25ms/step - loss: 0.6373 - accuracy: 1.0000\n",
      "Epoch 5/30\n",
      "1/1 [==============================] - 0s 22ms/step - loss: 0.6112 - accuracy: 1.0000\n",
      "Epoch 6/30\n",
      "1/1 [==============================] - 0s 23ms/step - loss: 0.5785 - accuracy: 1.0000\n",
      "Epoch 7/30\n",
      "1/1 [==============================] - 0s 24ms/step - loss: 0.5378 - accuracy: 1.0000\n",
      "Epoch 8/30\n",
      "1/1 [==============================] - 0s 32ms/step - loss: 0.4877 - accuracy: 1.0000\n",
      "Epoch 9/30\n",
      "1/1 [==============================] - 0s 24ms/step - loss: 0.4272 - accuracy: 1.0000\n",
      "Epoch 10/30\n",
      "1/1 [==============================] - 0s 29ms/step - loss: 0.3567 - accuracy: 1.0000\n",
      "Epoch 11/30\n",
      "1/1 [==============================] - 0s 25ms/step - loss: 0.2793 - accuracy: 1.0000\n",
      "Epoch 12/30\n",
      "1/1 [==============================] - 0s 24ms/step - loss: 0.2008 - accuracy: 1.0000\n",
      "Epoch 13/30\n",
      "1/1 [==============================] - 0s 25ms/step - loss: 0.1302 - accuracy: 1.0000\n",
      "Epoch 14/30\n",
      "1/1 [==============================] - 0s 25ms/step - loss: 0.0761 - accuracy: 1.0000\n",
      "Epoch 15/30\n",
      "1/1 [==============================] - 0s 25ms/step - loss: 0.0412 - accuracy: 1.0000\n",
      "Epoch 16/30\n",
      "1/1 [==============================] - 0s 29ms/step - loss: 0.0219 - accuracy: 1.0000\n",
      "Epoch 17/30\n",
      "1/1 [==============================] - 0s 25ms/step - loss: 0.0122 - accuracy: 1.0000\n",
      "Epoch 18/30\n",
      "1/1 [==============================] - 0s 26ms/step - loss: 0.0073 - accuracy: 1.0000\n",
      "Epoch 19/30\n",
      "1/1 [==============================] - 0s 22ms/step - loss: 0.0048 - accuracy: 1.0000\n",
      "Epoch 20/30\n",
      "1/1 [==============================] - 0s 27ms/step - loss: 0.0034 - accuracy: 1.0000\n",
      "Epoch 21/30\n",
      "1/1 [==============================] - 0s 25ms/step - loss: 0.0026 - accuracy: 1.0000\n",
      "Epoch 22/30\n",
      "1/1 [==============================] - 0s 26ms/step - loss: 0.0021 - accuracy: 1.0000\n",
      "Epoch 23/30\n",
      "1/1 [==============================] - 0s 26ms/step - loss: 0.0017 - accuracy: 1.0000\n",
      "Epoch 24/30\n",
      "1/1 [==============================] - 0s 37ms/step - loss: 0.0015 - accuracy: 1.0000\n",
      "Epoch 25/30\n",
      "1/1 [==============================] - 0s 31ms/step - loss: 0.0013 - accuracy: 1.0000\n",
      "Epoch 26/30\n",
      "1/1 [==============================] - 0s 23ms/step - loss: 0.0012 - accuracy: 1.0000\n",
      "Epoch 27/30\n",
      "1/1 [==============================] - 0s 24ms/step - loss: 0.0011 - accuracy: 1.0000\n",
      "Epoch 28/30\n",
      "1/1 [==============================] - 0s 23ms/step - loss: 0.0010 - accuracy: 1.0000\n",
      "Epoch 29/30\n",
      "1/1 [==============================] - 0s 24ms/step - loss: 9.5465e-04 - accuracy: 1.0000\n",
      "Epoch 30/30\n",
      "1/1 [==============================] - 0s 23ms/step - loss: 9.0093e-04 - accuracy: 1.0000\n"
     ]
    }
   ],
   "source": [
    "import numpy as np\n",
    "from tensorflow.keras.layers import Dense, GRU, Embedding\n",
    "from tensorflow.keras.models import Sequential\n",
    "from tensorflow.keras.optimizers import Adam\n",
    "from tensorflow.keras.preprocessing.text import Tokenizer\n",
    "from tensorflow.keras.preprocessing.sequence import pad_sequences\n",
    "\n",
    "positive_reviews = [\n",
    "    \"Прекрасна атмосфера і вишукана кухня, завдяки яким вечір пройшов чудово.\"]\n",
    "\n",
    "negative_reviews = [\n",
    "    \"Обслуговування залишає бажати кращого, а атмосфера застуджує до кісток.\"]\n",
    "\n",
    "reviews = positive_reviews + negative_reviews\n",
    "count_positive = len(positive_reviews)\n",
    "count_negative = len(negative_reviews)\n",
    "total_reviews = count_positive + count_negative\n",
    "\n",
    "max_words_count = 500\n",
    "max_text_len = 10\n",
    "tokenizer = Tokenizer(num_words=max_words_count, filters='!–\"—#$%&()*+,-./:;<=>?@[\\\\]^_`{|}~\\t\\n\\r«»', lower=True, split=' ', char_level=False)\n",
    "tokenizer.fit_on_texts(reviews)\n",
    "\n",
    "dist = list(tokenizer.word_counts.items())\n",
    "print(dist[:10])\n",
    "print(reviews[0][:100])\n",
    "\n",
    "data = tokenizer.texts_to_sequences(reviews)\n",
    "data_pad = pad_sequences(data, maxlen=max_text_len)\n",
    "print(list(tokenizer.word_index.items()))\n",
    "\n",
    "X = data_pad\n",
    "Y = np.array([1] * count_positive + [0] * count_negative)\n",
    "\n",
    "indices = np.random.choice(X.shape[0], size=X.shape[0], replace=False)\n",
    "X = X[indices]\n",
    "Y = Y[indices]\n",
    "\n",
    "model = Sequential()\n",
    "model.add(Embedding(max_words_count, 128, input_length=max_text_len))\n",
    "model.add(GRU(128, return_sequences=True))\n",
    "model.add(GRU(64, return_sequences=True))\n",
    "model.add(GRU(32))\n",
    "model.add(Dense(1, activation='sigmoid'))\n",
    "model.summary()\n",
    "\n",
    "model.compile(loss='binary_crossentropy', optimizer=Adam(learning_rate=0.001), metrics=['accuracy'])\n",
    "history = model.fit(X, Y, batch_size=32, epochs=30)"
   ]
  },
  {
   "cell_type": "code",
   "execution_count": 43,
   "metadata": {
    "colab": {
     "base_uri": "https://localhost:8080/"
    },
    "executionInfo": {
     "elapsed": 1569,
     "status": "ok",
     "timestamp": 1712607828526,
     "user": {
      "displayName": "Максим Лазаренко",
      "userId": "11263596122266035893"
     },
     "user_tz": -180
    },
    "id": "36gS8iUdWmYi",
    "outputId": "ef8efd0a-c2c5-41ed-8a8a-2a4e23b33816"
   },
   "outputs": [
    {
     "name": "stdout",
     "output_type": "stream",
     "text": [
      "1/1 [==============================] - 1s 1s/step\n",
      "Результат: Позитивна рецензія\n"
     ]
    }
   ],
   "source": [
    "test_review = \"Смакота та аромати з ресторану навівають гастрономічні відчуття.\"\n",
    "test_data = tokenizer.texts_to_sequences([test_review])\n",
    "test_data_pad = pad_sequences(test_data, maxlen=max_text_len)\n",
    "\n",
    "prediction = model.predict(test_data_pad)\n",
    "if prediction > 0.5:\n",
    "    print(\"Результат: Позитивна рецензія\")\n",
    "else:\n",
    "    print(\"Результат: Негативна рецензія\")"
   ]
  },
  {
   "cell_type": "code",
   "execution_count": 44,
   "metadata": {
    "colab": {
     "base_uri": "https://localhost:8080/"
    },
    "executionInfo": {
     "elapsed": 267,
     "status": "ok",
     "timestamp": 1712607833223,
     "user": {
      "displayName": "Максим Лазаренко",
      "userId": "11263596122266035893"
     },
     "user_tz": -180
    },
    "id": "BKzbYhq3XIlj",
    "outputId": "2b9a4e6a-706d-4281-fb92-98d8bc7a3aae"
   },
   "outputs": [
    {
     "name": "stdout",
     "output_type": "stream",
     "text": [
      "1/1 [==============================] - 0s 25ms/step\n",
      "Результат: Негативна рецензія\n"
     ]
    }
   ],
   "source": [
    "test_review_1 = \"Обслуговування в ресторані залишає бажати кращого, а страви мають неприємний смак і вигляд.\".lower()\n",
    "test_data_1 = tokenizer.texts_to_sequences([test_review_1])\n",
    "test_data_pad_1 = pad_sequences(test_data_1, maxlen=max_text_len)\n",
    "\n",
    "prediction = model.predict(test_data_pad_1)\n",
    "if prediction > 0.5:\n",
    "    print(\"Результат: Позитивна рецензія\")\n",
    "else:\n",
    "    print(\"Результат: Негативна рецензія\")"
   ]
  }
 ],
 "metadata": {
  "colab": {
   "authorship_tag": "ABX9TyPzF0Er13YCvmA/FCTkyzoT",
   "provenance": [
    {
     "file_id": "14ID4dSO3vEOw8Dh_qPbX6RWIl7h8saaB",
     "timestamp": 1712607883821
    }
   ]
  },
  "kernelspec": {
   "display_name": "Python 3 (ipykernel)",
   "language": "python",
   "name": "python3"
  },
  "language_info": {
   "codemirror_mode": {
    "name": "ipython",
    "version": 3
   },
   "file_extension": ".py",
   "mimetype": "text/x-python",
   "name": "python",
   "nbconvert_exporter": "python",
   "pygments_lexer": "ipython3",
   "version": "3.11.7"
  }
 },
 "nbformat": 4,
 "nbformat_minor": 4
}
