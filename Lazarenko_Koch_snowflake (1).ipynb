{
 "cells": [
  {
   "cell_type": "code",
   "execution_count": null,
   "id": "d50d736e",
   "metadata": {},
   "outputs": [
    {
     "name": "stdin",
     "output_type": "stream",
     "text": [
      "Enter the level of recursion:  6\n"
     ]
    }
   ],
   "source": [
    "import turtle\n",
    "\n",
    "def koch_snowflake(t, order, size):\n",
    "    if order == 0:\n",
    "        t.forward(size)\n",
    "    else:\n",
    "        for angle in [70, -140, 70, 0]:\n",
    "            koch_snowflake(t, order-1, size/3)\n",
    "            t.left(angle)\n",
    "\n",
    "def main():\n",
    "    my_turtle = turtle.Turtle()\n",
    "    my_window = turtle.Screen()\n",
    "    my_turtle.speed(0)\n",
    "    my_turtle.penup()\n",
    "    my_turtle.goto(-140, 90)\n",
    "    my_turtle.pendown()\n",
    "    my_window.bgcolor(\"white\")\n",
    "    level = int(input(\"Enter the level of recursion: \"))\n",
    "    size = 300  # Розмір фіксований\n",
    "    for i in range(3):\n",
    "        koch_snowflake(my_turtle, level, size)\n",
    "        my_turtle.right(120)\n",
    "    my_window.mainloop()\n",
    "\n",
    "main()"
   ]
  }
 ],
 "metadata": {
  "kernel_info": {
   "name": "python"
  },
  "kernelspec": {
   "display_name": "Python 3 (ipykernel)",
   "language": "python",
   "name": "python3"
  },
  "language_info": {
   "codemirror_mode": {
    "name": "ipython",
    "version": 3
   },
   "file_extension": ".py",
   "mimetype": "text/x-python",
   "name": "python",
   "nbconvert_exporter": "python",
   "pygments_lexer": "ipython3",
   "version": "3.11.7"
  },
  "nteract": {
   "version": "nteract-front-end@1.0.0"
  }
 },
 "nbformat": 4,
 "nbformat_minor": 5
}
